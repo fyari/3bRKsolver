{
 "cells": [
  {
   "cell_type": "code",
   "execution_count": 1,
   "metadata": {},
   "outputs": [],
   "source": [
    "\n",
    "import time\n",
    "import math\n",
    "import numpy as np\n",
    "import pylab as py\n",
    "\n",
    "#import matplotlib.pyplot as plt\n",
    "\n",
    "from matplotlib import animation, rc\n",
    "from IPython.display import HTML"
   ]
  },
  {
   "cell_type": "code",
   "execution_count": 2,
   "metadata": {},
   "outputs": [],
   "source": [
    "# initialization animation function: plot the background of each frame\n",
    "def init():\n",
    "    line1.set_data([], [])\n",
    "    line2.set_data([], [])\n",
    "    ttl.set_text('')\n",
    "    \n",
    "    return (line1,line2,ttl)"
   ]
  },
  {
   "cell_type": "code",
   "execution_count": 3,
   "metadata": {},
   "outputs": [],
   "source": [
    "def force_es(r):\n",
    "    F = np.zeros(2)\n",
    "    Fmag = GG*Me*Ms/(np.linalg.norm(r)+1e-20)**2\n",
    "    theta = math.atan(np.abs(r[1])/(np.abs(r[0])+1e-20))\n",
    "    F[0] = Fmag * np.cos(theta)\n",
    "    F[1] = Fmag * np.sin(theta)\n",
    "    if r[0] > 0:\n",
    "        F[0] = -F[0]\n",
    "    if r[1] > 0:\n",
    "        F[1] = -F[1]\n",
    "        \n",
    "    return F\n",
    "\n",
    "def force_js(r):\n",
    "    F = np.zeros(2)\n",
    "    Fmag = GG*Mj*Ms/(np.linalg.norm(r)+1e-20)**2\n",
    "    theta = math.atan(np.abs(r[1])/(np.abs(r[0])+1e-20))\n",
    "    F[0] = Fmag * np.cos(theta)\n",
    "    F[1] = Fmag * np.sin(theta)\n",
    "    if r[0] > 0:\n",
    "        F[0] = -F[0]\n",
    "    if r[1] > 0:\n",
    "        F[1] = -F[1]\n",
    "        \n",
    "    return F\n",
    "\n",
    "def force_ej(re,rj):\n",
    "    \n",
    "    r = np.zeros(2)\n",
    "    F = np.zeros(2)\n",
    "    r[0] = re[0] - rj[0]    \n",
    "    r[1] = re[1] - rj[1]    \n",
    "    Fmag = GG*Me*Mj/(np.linalg.norm(r)+1e-20)**2\n",
    "    theta = math.atan(np.abs(r[1])/(np.abs(r[0])+1e-20))\n",
    "    F[0] = Fmag * np.cos(theta)\n",
    "    F[1] = Fmag * np.sin(theta)\n",
    "    if r[0] > 0:\n",
    "        F[0] = -F[0]\n",
    "    if r[1] > 0:\n",
    "        F[1] = -F[1]\n",
    "        \n",
    "    return F\n",
    "\n",
    "\n",
    "def force(r,planet,ro,vo):\n",
    "    if planet == 'earth':\n",
    "        return force_es(r) + force_ej(r,ro)\n",
    "    if planet == 'jupiter':\n",
    "        return force_js(r) - force_ej(r,ro)\n",
    "\n",
    "    \n",
    "def dr_dt(t,r,v,planet,ro,vo):\n",
    "    return v\n",
    " \n",
    "    \n",
    "def dv_dt(t,r,v,planet,ro,vo):\n",
    "    F = force(r,planet,ro,vo)\n",
    "    if planet == 'earth':\n",
    "        y = F/Me\n",
    "    if planet == 'jupiter':\n",
    "        y = F/Mj\n",
    "    return y \n",
    "\n",
    "# Differential equation solvers\n",
    "# ===================================================================\n",
    "def EulerSolver(t,r,v,h):\n",
    "    z = np.zeros([2,2])\n",
    "    r1 = r + h*dr_dt(t,r,v)\n",
    "    v1 = v + h*dv_dt(t,r,v)\n",
    "    z = [r1, v1]\n",
    "    return z\n",
    "\n",
    "def EulerCromerSolver(t,r,v,h):\n",
    "    z = np.zeros([2,2])\n",
    "    r = r + h*dr_dt(t,r,v)\n",
    "    v = v + h*dv_dt(t,r,v)\n",
    "    z = [r, v]\n",
    "    return z\n",
    "\n",
    "def RK4Solver(t,r,v,h,planet,ro,vo):\n",
    "    k11 = dr_dt(t,r,v,planet,ro,vo) \n",
    "    k21 = dv_dt(t,r,v,planet,ro,vo)\n",
    "    \n",
    "    k12 = dr_dt(t + 0.5*h,r + 0.5*h*k11,v + 0.5*h*k21,planet,ro,vo)\n",
    "    k22 = dv_dt(t + 0.5*h,r + 0.5*h*k11,v + 0.5*h*k21,planet,ro,vo)\n",
    "    \n",
    "    k13 = dr_dt(t + 0.5*h,r + 0.5*h*k12,v + 0.5*h*k22,planet,ro,vo)\n",
    "    k23 = dv_dt(t + 0.5*h,r + 0.5*h*k12,v + 0.5*h*k22,planet,ro,vo)\n",
    "    \n",
    "    k14 = dr_dt(t + h,r + h*k13,v + h*k23,planet,ro,vo)\n",
    "    k24 = dv_dt(t + h,r + h*k13,v + h*k23,planet,ro,vo)\n",
    "    \n",
    "    y0 = r + h * (k11 + 2.*k12 + 2.*k13 + k14) / 6.\n",
    "    y1 = v + h * (k21 + 2.*k22 + 2.*k23 + k24) / 6.\n",
    "    \n",
    "    z = np.zeros([2,2])\n",
    "    z = [y0, y1]\n",
    "    return z\n",
    "\n",
    "# =====================================================================\n",
    "\n",
    "\n",
    "def KineticEnergy(v):\n",
    "    vn = np.linalg.norm(v)\n",
    "    return 0.5*Me*vn**2\n",
    "\n",
    "def PotentialEnergy(r):\n",
    "    fmag = np.linalg.norm(force_es(r))\n",
    "    rmag = np.linalg.norm(r)\n",
    "    return -fmag*rmag\n",
    "\n",
    "def AngMomentum(r,v):\n",
    "    rn = np.linalg.norm(r)\n",
    "    vn = np.linalg.norm(v)\n",
    "    r = r/rn\n",
    "    v = v/vn\n",
    "    rdotv = r[0]*v[0]+r[1]*v[1]\n",
    "    theta = math.acos(rdotv)\n",
    "    return Me*rn*vn*np.sin(theta)\n",
    "\n",
    "def AreaCalc(r1,r2):\n",
    "    r1n = np.linalg.norm(r1)\n",
    "    r2n = np.linalg.norm(r2)\n",
    "    r1 = r1 + 1e-20\n",
    "    r2 = r2 + 1e-20\n",
    "    theta1 = math.atan(abs(r1[1]/r1[0]))\n",
    "    theta2 = math.atan(abs(r2[1]/r2[0]))\n",
    "    rn = 0.5*(r1n+r2n)\n",
    "    del_theta = np.abs(theta1 - theta2)\n",
    "    return 0.5*del_theta*rn**2\n",
    "\n",
    "def mplot(fign,x,y,xl,yl,clr,lbl):\n",
    "    py.figure(fign)\n",
    "    py.xlabel(xl)    \n",
    "    py.ylabel(yl)\n",
    "    return py.plot(x,y,clr, linewidth =1.0,label = lbl)"
   ]
  },
  {
   "cell_type": "code",
   "execution_count": 4,
   "metadata": {},
   "outputs": [
    {
     "name": "stdout",
     "output_type": "stream",
     "text": [
      "Enter Mass of earth in kg : 1000\n",
      "Enter Mass of Sun in kg : 15000\n",
      "Enter Mass of jupiter in kg : 1500\n",
      "Enter distance in km : 1000\n"
     ]
    }
   ],
   "source": [
    "\n",
    "#Me = 6e24                     # Mass of Earth in kg\n",
    "#Ms = 2e30                     # Mass of Sun in kg                       \n",
    "#Mj = 1.9e27                   # Mass of Jupiter\n",
    "Me=int(input(\"Enter Mass of earth in kg : \"))\n",
    "Ms=int(input(\"Enter Mass of Sun in kg : \"))\n",
    "Mj=int(input(\"Enter Mass of jupiter in kg : \"))\n",
    "\n",
    "\n",
    "G = 6.673e-11                 # Gravitational Constant\n",
    "\n",
    "#RR = 1.496e11                 # Normalizing distance in km (= 1 AU)\n",
    "MM = 6e24                     # Normalizing mass\n",
    "TT = 365*24*60*60.0           # Normalizing time (1 year)\n",
    "\n",
    "RR=int(input(\"Enter distance in km : \"))\n",
    "\n",
    "\n",
    "\n",
    "FF = (G*MM**2)/RR**2          # Unit force\n",
    "EE = FF*RR                    # Unit energy\n",
    "\n",
    "GG = (MM*G*TT**2)/(RR**3)\n",
    "\n",
    "Me = Me/MM                    # Normalized mass of Earth\n",
    "Ms = Ms/MM                    # Normalized mass of Sun  \n",
    "Mj = 500*Mj/MM                # Normalized mass of Jupiter/Super Jupiter\n",
    "\n",
    "\n",
    "ti = 0                # initial time = 0\n",
    "tf = 120              # final time = 120 years\n",
    "\n",
    " \n",
    "\n",
    "\n",
    "\n",
    "N = 100*tf                   # 100 points per year\n",
    "t = np.linspace(ti,tf,N)     # time array from ti to tf with N points \n",
    "\n",
    "h = t[2]-t[1]                # time step (uniform)\n",
    "\n",
    "\n",
    "# Initialization\n",
    "\n",
    "KE = np.zeros(N)            # Kinetic energy\n",
    "PE = np.zeros(N)            # Potential energy\n",
    "AM = np.zeros(N)            # Angular momentum\n",
    "AreaVal = np.zeros(N)\n",
    "\n",
    "r = np.zeros([N,2])         # position vector of Earth\n",
    "v = np.zeros([N,2])         # velocity vector of Earth\n",
    "rj = np.zeros([N,2])        # position vector of Jupiter\n",
    "vj = np.zeros([N,2])        # velocity vector of Jupiter\n",
    "\n",
    "ri = [1496e8/RR,0]      # initial position of earth\n",
    "rji = [5.2,0]           # initial position of Jupiter\n",
    "\n",
    "\n",
    "\n",
    "\n",
    "vv = np.sqrt(Ms*GG/ri[0])         # Magnitude of Earth's initial velocity \n",
    "\n",
    "vvj = 13.06e3 * TT/RR             # Magnitude of Jupiter's initial velocity \n",
    "\n",
    "vi = [0, vv*1.0]                  # Initial velocity vector for Earth.Taken to be along y direction as ri is on x axis.\n",
    "vji = [0, vvj*1.0]                # Initial velocity vector for Jupiter\n",
    "\n",
    "\n",
    "# Initializing the arrays with initial values.\n",
    "t[0] = ti\n",
    "r[0,:] = ri\n",
    "v[0,:] = vi\n",
    "rj[0,:] = rji\n",
    "vj[0,:] = vji\n",
    "\n",
    "\"\"\"\n",
    "t1 = dr_dt(ti,ri,vi)\n",
    "t2 = dv_dt(ti,ri,vi)\n",
    "print t1\n",
    "print t2\n",
    "\"\"\"\n",
    "KE[0] = KineticEnergy(v[0,:])\n",
    "PE[0] = PotentialEnergy(r[0,:])\n",
    "AM[0] = AngMomentum(r[0,:],v[0,:])\n",
    "AreaVal[0] = 0"
   ]
  },
  {
   "cell_type": "code",
   "execution_count": 5,
   "metadata": {},
   "outputs": [],
   "source": [
    "for i in range(0,N-1):\n",
    "    [r[i+1,:],v[i+1,:]]=RK4Solver(t[i],r[i,:],v[i,:],h,'earth',rj[i,:],vj[i,:])\n",
    "    [rj[i+1,:],vj[i+1,:]]=RK4Solver(t[i],rj[i,:],vj[i,:],h,'jupiter',r[i,:],v[i,:])\n",
    "        \n",
    "    KE[i+1] = KineticEnergy(v[i+1,:])\n",
    "    PE[i+1] = PotentialEnergy(r[i+1,:])\n",
    "    AM[i+1] = AngMomentum(r[i+1,:],v[i+1,:])\n",
    "    AreaVal[i+1] = AreaVal[i] + AreaCalc(r[i,:],r[i+1,:])"
   ]
  },
  {
   "cell_type": "code",
   "execution_count": 11,
   "metadata": {},
   "outputs": [
    {
     "data": {
      "text/plain": [
       "[<matplotlib.lines.Line2D at 0x1df78ada6c8>]"
      ]
     },
     "execution_count": 11,
     "metadata": {},
     "output_type": "execute_result"
    },
    {
     "data": {
      "image/png": "[encoded data removed]",
      "text/plain": [
       "<Figure size 432x288 with 1 Axes>"
      ]
     },
     "metadata": {
      "needs_background": "light"
     },
     "output_type": "display_data"
    },
    {
     "data": {
      "image/png": "[encoded data removed]",
      "text/plain": [
       "<Figure size 432x288 with 1 Axes>"
      ]
     },
     "metadata": {
      "needs_background": "light"
     },
     "output_type": "display_data"
    },
    {
     "data": {
      "image/png": "[encoded data removed]",
      "text/plain": [
       "<Figure size 432x288 with 1 Axes>"
      ]
     },
     "metadata": {
      "needs_background": "light"
     },
     "output_type": "display_data"
    },
    {
     "data": {
      "image/png": "[encoded data removed]",
      "text/plain": [
       "<Figure size 432x288 with 1 Axes>"
      ]
     },
     "metadata": {
      "needs_background": "light"
     },
     "output_type": "display_data"
    }
   ],
   "source": [
    "lbl = 'orbit'\n",
    "py.plot(0,0,'ro',linewidth = 7)\n",
    "mplot(1,r[:,0],r[:,1],r'$x$ position (AU)',r'$y$ position (AU)','blue','Earth')\n",
    "mplot(1,rj[:,0],rj[:,1],r'$x$ position (AU)',r'$y$ position (AU)','green','Super Jupiter')\n",
    "py.ylim([-9, 9])\n",
    "\n",
    "py.axis('equal')\n",
    "mplot(2,t,KE,r'Time, $t$ (years)',r'Kinetice Energy, $KE$ ($\\times$'+str(\"%.*e\"%(2, EE))+' Joule)','blue','KE')\n",
    "mplot(2,t,PE,r'Time, $t$ (years)',r'Potential Energy, $KE$ ($\\times$'+str(\"%.*e\"%(2, EE))+' Joule)','red','PE')\n",
    "mplot(2,t,KE+PE,r'Time, $t$ (years)',r'Total Energy, $KE$ ($\\times$'+str(\"%.*e\"%(2, EE))+' Joule)','black','Total Energy')\n",
    "q=py.legend(loc = 0)\n",
    "q.draw_frame(False)\n",
    "py.ylim([-180, 180])\n",
    "\n",
    "\n",
    "mplot(3,t,AM,r'Time, $t$ (years)',r'Angular Momentum','black',lbl)\n",
    "py.ylim([4, 8])\n",
    "\n",
    "mplot(4,t,AreaVal,r'Time, $t$ (years)',r'Sweeped Area ($AU^2$)','black',lbl)"
   ]
  },
  {
   "cell_type": "code",
   "execution_count": null,
   "metadata": {},
   "outputs": [],
   "source": []
  }
 ],
 "metadata": {
  "kernelspec": {
   "display_name": "Python 3",
   "language": "python",
   "name": "python3"
  },
  "language_info": {
   "codemirror_mode": {
    "name": "ipython",
    "version": 3
   },
   "file_extension": ".py",
   "mimetype": "text/x-python",
   "name": "python",
   "nbconvert_exporter": "python",
   "pygments_lexer": "ipython3",
   "version": "3.7.4"
  }
 },
 "nbformat": 4,
 "nbformat_minor": 2
}
